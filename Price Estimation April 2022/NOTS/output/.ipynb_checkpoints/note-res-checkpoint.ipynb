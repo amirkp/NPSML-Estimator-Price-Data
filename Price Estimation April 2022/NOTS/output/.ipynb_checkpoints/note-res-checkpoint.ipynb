{
 "cells": [
  {
   "cell_type": "code",
   "execution_count": 27,
   "id": "1efd925d",
   "metadata": {},
   "outputs": [],
   "source": [
    "using BSON\n",
    "using DataFrames\n",
    "using BlackBoxOptim\n",
    "using Statistics\n",
    "using PrettyTables"
   ]
  },
  {
   "cell_type": "code",
   "execution_count": 5,
   "id": "df9f3f93",
   "metadata": {},
   "outputs": [
    {
     "data": {
      "text/plain": [
       "res_fun (generic function with 2 methods)"
      ]
     },
     "execution_count": 5,
     "metadata": {},
     "output_type": "execute_result"
    }
   ],
   "source": [
    "true_pars = [-2.5, 1.5, -1.5, -.5, 3.5, 2.5, 1.5, -3, 3, -3.]\n",
    "\n",
    "function res_fun(PATH, true_pars, verbose=:false)\n",
    "    out = BSON.load(PATH)\n",
    "    est = out[\"beta_hat\"];\n",
    "\n",
    "    fit = out[\"fitness\"]\n",
    "    if verbose==true\n",
    "        for i = 1:size(est)[1]\n",
    "            println(round.(est[i,:], digits=3),round.(fit[i], digits=2))\n",
    "            sleep(0.5)\n",
    "        end\n",
    "    end\n",
    "\n",
    "\n",
    "    bw = out[\"bw\"]\n",
    "\n",
    "    bias = mean(est, dims=1) -true_pars'\n",
    "\n",
    "    MSE = sqrt.(mean((est .- true_pars').^2, dims=1))\n",
    "    m_h = mean(bw, dims=1)\n",
    "    # println(\"True parameters: \", true_pars)\n",
    "    # sleep(1)\n",
    "    # println(\"Bias: \", round.(bias, digits=2))\n",
    "    # sleep(1)\n",
    "    println(\"RMSE: \",round.(MSE, digits=2))\n",
    "    # sleep(1)\n",
    "    println(\"Mean BW: \",round.(m_h, digits=2))\n",
    "    pars10 = [\"b11u\", \"b12u\", \"b21u\", \"b22u\", \"b11d\", \"b12d\", \"b21d\", \"b13u\", \"b33d\", \"eqsel\", \"llike\"];\n",
    "    est = hcat(est, fit);\n",
    "\n",
    "    est_df = DataFrame(est, pars10);\n",
    "    return est_df;\n",
    "end"
   ]
  },
  {
   "cell_type": "markdown",
   "id": "59e30857",
   "metadata": {},
   "source": [
    "# 100 Replications\n"
   ]
  },
  {
   "cell_type": "markdown",
   "id": "268dc37a",
   "metadata": {},
   "source": [
    "25 simulations"
   ]
  },
  {
   "cell_type": "code",
   "execution_count": 18,
   "id": "1f4a81ab",
   "metadata": {},
   "outputs": [
    {
     "name": "stdout",
     "output_type": "stream",
     "text": [
      "RMSE: [1.19 0.93 0.67 0.85 0.9 1.13 0.61 3.72 1.57 1.51]\n",
      "Mean BW: [0.05 0.18 0.31]\n"
     ]
    }
   ],
   "source": [
    "path = \"/Users/akp/out/02/est_100_sim_25.bson\";\n",
    "est_100_25 = res_fun(path, true_pars);\n"
   ]
  },
  {
   "cell_type": "code",
   "execution_count": 32,
   "id": "c9fa0cee",
   "metadata": {},
   "outputs": [
    {
     "name": "stdout",
     "output_type": "stream",
     "text": [
      "RMSE: [1.02 0.83 0.57 0.65 0.75 1.11 0.51 3.35 1.69 1.53]\n",
      "Mean BW: [0.05 0.18 0.31]\n",
      "┌─────────┬─────────┬─────────┬─────────┬─────────┬─────────┬─────────┬─────────┬─────────┬─────────┬─────────┐\n",
      "│\u001b[1m    b11u \u001b[0m│\u001b[1m    b12u \u001b[0m│\u001b[1m    b21u \u001b[0m│\u001b[1m    b22u \u001b[0m│\u001b[1m    b11d \u001b[0m│\u001b[1m    b12d \u001b[0m│\u001b[1m    b21d \u001b[0m│\u001b[1m    b13u \u001b[0m│\u001b[1m    b33d \u001b[0m│\u001b[1m   eqsel \u001b[0m│\u001b[1m   llike \u001b[0m│\n",
      "│\u001b[90m Float64 \u001b[0m│\u001b[90m Float64 \u001b[0m│\u001b[90m Float64 \u001b[0m│\u001b[90m Float64 \u001b[0m│\u001b[90m Float64 \u001b[0m│\u001b[90m Float64 \u001b[0m│\u001b[90m Float64 \u001b[0m│\u001b[90m Float64 \u001b[0m│\u001b[90m Float64 \u001b[0m│\u001b[90m Float64 \u001b[0m│\u001b[90m Float64 \u001b[0m│\n",
      "├─────────┼─────────┼─────────┼─────────┼─────────┼─────────┼─────────┼─────────┼─────────┼─────────┼─────────┤\n",
      "│    -1.3 │    1.82 │   -2.27 │   -0.85 │    2.92 │     4.1 │    2.23 │    3.01 │    0.26 │   -4.92 │    0.18 │\n",
      "│   -3.18 │    2.97 │   -1.14 │   -1.61 │    2.65 │    4.13 │    1.42 │   -0.53 │    1.75 │   -4.69 │    -0.1 │\n",
      "│   -2.61 │    3.03 │   -1.59 │   -2.35 │    3.28 │    3.67 │    1.63 │   -3.33 │    1.58 │   -3.63 │    0.57 │\n",
      "│   -3.74 │    2.51 │    -0.9 │   -1.21 │     3.7 │    3.44 │     1.1 │   -2.04 │    1.49 │   -4.69 │   -0.06 │\n",
      "│   -3.22 │    1.91 │   -1.19 │   -0.67 │    3.89 │    2.47 │    1.19 │   -2.24 │    1.41 │   -4.72 │   -0.08 │\n",
      "└─────────┴─────────┴─────────┴─────────┴─────────┴─────────┴─────────┴─────────┴─────────┴─────────┴─────────┘\n"
     ]
    }
   ],
   "source": [
    "path = \"/Users/akp/out/02/est_100_sim_50.bson\";\n",
    "est = res_fun(path, true_pars);\n",
    "# show(est[1:10,:], allcols=true)\n",
    "formatter = (v, i, j) -> round(v, digits = 2);\n",
    "pretty_table(est[rand(1:100, 10),:], formatters = formatter)"
   ]
  },
  {
   "cell_type": "code",
   "execution_count": 14,
   "id": "2ec703c0",
   "metadata": {},
   "outputs": [
    {
     "name": "stdout",
     "output_type": "stream",
     "text": [
      "RMSE: [1.19 0.93 0.67 0.85 0.9 1.13 0.61 3.72 1.57 1.51]\n",
      "Mean BW: [0.05 0.18 0.31]\n",
      "RMSE: [1.02 0.83 0.57 0.65 0.75 1.11 0.51 3.35 1.69 1.53]\n",
      "Mean BW: [0.05 0.18 0.31]\n",
      "RMSE: [0.88 1.16 0.5 1.08 1.02 1.58 0.51 2.85 1.55 1.21]\n",
      "Mean BW: [0.04 0.15 0.25]\n",
      "RMSE: [0.75 1.03 0.46 0.87 0.81 1.49 0.44 2.11 1.33 1.09]\n",
      "Mean BW: [0.04 0.15 0.25]\n"
     ]
    }
   ],
   "source": [
    "path = \"/Users/akp/out/02/est_100_sim_50.bson\";\n",
    "res_fun(path, true_pars);\n",
    "\n",
    "path = \"/Users/akp/out/03/est_200_sim_25.bson\";\n",
    "est_200_25 = res_fun(path, true_pars);\n",
    "\n",
    "path = \"/Users/akp/out/03/est_200_sim_50.bson\";\n",
    "est_200_25 = res_fun(path, true_pars);"
   ]
  },
  {
   "cell_type": "markdown",
   "id": "b90b3cc9",
   "metadata": {},
   "source": []
  },
  {
   "cell_type": "code",
   "execution_count": 6,
   "id": "9f35f955",
   "metadata": {},
   "outputs": [
    {
     "name": "stdout",
     "output_type": "stream",
     "text": [
      "RMSE: [0.86 1.2 0.56 0.97 0.89 1.5 0.55 3.72 1.44 1.18]\n",
      "Mean BW: [0.03 0.08 0.16]\n",
      "RMSE: [0.98 0.86 0.54 0.64 0.74 1.03 0.47 3.7 1.56 1.63]\n",
      "Mean BW: [0.03 0.08 0.32]\n",
      "RMSE: [0.88 0.61 0.51 0.52 0.77 0.95 0.5 3.67 1.83 1.9]\n",
      "Mean BW: [0.03 0.08 0.64]\n",
      "RMSE: [1.08 1.36 0.73 1.71 1.45 1.39 0.96 3.77 1.38 1.3]\n",
      "Mean BW: [0.03 0.17 0.16]\n",
      "RMSE: [0.88 1.11 0.52 1.11 0.96 1.14 0.48 4.22 1.55 1.49]\n",
      "Mean BW: [0.03 0.17 0.32]\n",
      "RMSE: [1.01 0.84 0.64 0.99 0.97 0.96 0.65 4.09 1.53 1.73]\n",
      "Mean BW: [0.03 0.17 0.64]\n",
      "RMSE: [1.06 1.73 0.83 1.98 1.48 1.31 1.1 3.88 1.24 1.25]\n",
      "Mean BW: [0.03 0.33 0.16]\n",
      "RMSE: [0.78 1.27 0.51 1.57 1.28 1.1 0.75 4.63 1.4 1.49]\n",
      "Mean BW: [0.03 0.33 0.32]\n",
      "RMSE: [0.98 0.75 0.71 1.14 1.17 0.84 0.8 4.25 1.59 1.84]\n",
      "Mean BW: [0.03 0.33 0.64]\n",
      "RMSE: [1.16 1.14 0.67 0.72 0.82 1.48 0.61 2.91 1.61 1.31]\n",
      "Mean BW: [0.06 0.08 0.16]\n",
      "RMSE: [1.02 0.81 0.55 0.54 0.74 1.15 0.48 3.5 1.85 1.57]\n",
      "Mean BW: [0.06 0.08 0.32]\n",
      "RMSE: [0.84 0.57 0.48 0.36 0.69 0.97 0.45 4.05 1.96 1.87]\n",
      "Mean BW: [0.06 0.08 0.64]\n",
      "RMSE: [1.18 1.37 0.74 1.44 0.97 1.43 0.68 3.54 1.42 1.26]\n",
      "Mean BW: [0.06 0.17 0.16]\n",
      "RMSE: [1.12 0.96 0.67 0.8 0.7 1.13 0.56 3.93 1.6 1.52]\n",
      "Mean BW: [0.06 0.17 0.32]\n",
      "RMSE: [0.93 0.7 0.52 0.54 0.7 1.0 0.49 3.86 1.96 1.89]\n",
      "Mean BW: [0.06 0.17 0.64]\n",
      "RMSE: [1.62 1.71 1.32 2.23 1.79 1.27 1.4 3.85 1.56 1.71]\n",
      "Mean BW: [0.06 0.33 0.16]\n",
      "RMSE: [0.94 0.84 0.58 1.16 1.05 1.09 0.71 3.19 1.59 1.55]\n",
      "Mean BW: [0.06 0.33 0.32]\n",
      "RMSE: [1.01 0.85 0.58 0.92 0.7 1.01 0.49 4.0 1.69 1.85]\n",
      "Mean BW: [0.06 0.33 0.64]\n",
      "RMSE: [1.33 1.24 0.81 0.85 0.95 1.51 0.84 3.14 1.53 1.49]\n",
      "Mean BW: [0.11 0.08 0.16]\n",
      "RMSE: [1.25 0.61 0.66 0.3 0.94 1.05 0.64 2.66 1.81 1.63]\n",
      "Mean BW: [0.11 0.08 0.32]\n",
      "RMSE: [0.99 0.58 0.61 0.32 0.86 1.09 0.59 3.75 2.05 1.87]\n",
      "Mean BW: [0.11 0.08 0.64]\n",
      "RMSE: [1.23 1.13 0.8 1.08 0.94 1.42 0.73 2.99 1.66 1.4]\n",
      "Mean BW: [0.11 0.17 0.16]\n",
      "RMSE: [1.2 0.96 0.69 0.91 0.95 1.05 0.57 3.0 1.93 1.63]\n",
      "Mean BW: [0.11 0.17 0.32]\n"
     ]
    }
   ],
   "source": [
    "h_mat = zeros(27, 3)\n",
    "scales = [0.5 1. 2.]\n",
    "count = 1\n",
    "for i1 = 1:3\n",
    "    for i2 =  1:3\n",
    "        for i3  = 1:3\n",
    "            h_mat[count, :] = [scales[i1] scales[i2] scales[i3]]\n",
    "            global count+=1\n",
    "        end\n",
    "    end\n",
    "end\n",
    "\n",
    "\n",
    "for h_id = 1:23 \n",
    "    # path= \"/Users/amir/out/h_vary1/est_100_sim_25_$(h_mat[h_id, 1])_$(h_mat[h_id, 2])_$(h_mat[h_id, 3]).bson\"\n",
    "    path= \"/Users/akp/out/h_vary1/est_100_sim_25_$(h_mat[h_id, 1])_$(h_mat[h_id, 2])_$(h_mat[h_id, 3]).bson\"\n",
    "    est=  res_fun(path, true_pars);\n",
    "end\n"
   ]
  },
  {
   "cell_type": "code",
   "execution_count": null,
   "id": "4983632b",
   "metadata": {},
   "outputs": [],
   "source": []
  }
 ],
 "metadata": {
  "kernelspec": {
   "display_name": "Julia 1.7.2",
   "language": "julia",
   "name": "julia-1.7"
  },
  "language_info": {
   "file_extension": ".jl",
   "mimetype": "application/julia",
   "name": "julia",
   "version": "1.7.2"
  }
 },
 "nbformat": 4,
 "nbformat_minor": 5
}
